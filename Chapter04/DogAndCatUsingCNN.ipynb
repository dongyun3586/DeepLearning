{
 "cells": [
  {
   "cell_type": "markdown",
   "metadata": {},
   "source": [
    "# 고양이 개 이미지 데이터셋"
   ]
  },
  {
   "cell_type": "code",
   "execution_count": null,
   "metadata": {},
   "outputs": [],
   "source": [
    "# 이미지 처리 라이브러리 piexif 추가\n",
    "pip install piexif"
   ]
  },
  {
   "cell_type": "code",
   "execution_count": null,
   "metadata": {},
   "outputs": [],
   "source": [
    "pip install shutil\n",
    "pip install random"
   ]
  },
  {
   "cell_type": "code",
   "execution_count": null,
   "metadata": {},
   "outputs": [],
   "source": [
    "import matplotlib\n",
    "matplotlib.use(\"TkAgg\")\n",
    "from matplotlib import pyplot as plt\n",
    "import os\n",
    "import random"
   ]
  },
  {
   "cell_type": "code",
   "execution_count": null,
   "metadata": {},
   "outputs": [],
   "source": [
    "src = 'Dataset/PetImages/'\n",
    "\n",
    "# 데이터셋이 있는지 먼저 확인한다. 없다면 내려 받아야 한다.\n",
    "if not os.path.isdir(src):\n",
    "    print(\"\"\"\n",
    "          Dataset not found in your computer.\n",
    "          Please follow the instructions in the link below to download the dataset:\n",
    "          https://raw.githubusercontent.com/PacktPublishing/Neural-Network-Projects-with-Python/master/chapter4/how_to_download_the_dataset.txt\n",
    "          \"\"\")\n",
    "    quit()"
   ]
  },
  {
   "cell_type": "code",
   "execution_count": null,
   "metadata": {},
   "outputs": [],
   "source": [
    "# 파일명 리스트를 가져온다\n",
    "_, _, cat_images = next(os.walk('Dataset/PetImages/Cat'))\n",
    "\n",
    "# 가로 3개, 세로 3개(총 9개)짜리 차트를 준비한다\n",
    "fig, ax = plt.subplots(3,3, figsize=(20,10))\n",
    "\n",
    "# 무작위로 선택한 이미지를 그린다\n",
    "for idx, img in enumerate(random.sample(cat_images, 9)):\n",
    "    img_read = plt.imread('Dataset/PetImages/Cat/'+img)\n",
    "    ax[int(idx/3), idx%3].imshow(img_read)\n",
    "    ax[int(idx/3), idx%3].axis('off')\n",
    "    ax[int(idx/3), idx%3].set_title('Cat/'+img)\n",
    "\n",
    "plt.show()"
   ]
  },
  {
   "cell_type": "code",
   "execution_count": null,
   "metadata": {},
   "outputs": [],
   "source": [
    "# 파일명 리스트를 가져온다\n",
    "_, _, dog_images = next(os.walk('Dataset/PetImages/Dog'))\n",
    "\n",
    "# 가로 3개, 세로 3개(총 9개)짜리 차트를 준비한다\n",
    "fig, ax = plt.subplots(3,3, figsize=(20,10))\n",
    "\n",
    "# 무작위로 선택한 이미지를 그린다\n",
    "for idx, img in enumerate(random.sample(dog_images, 9)):\n",
    "    img_read = plt.imread('Dataset/PetImages/Dog/'+img)\n",
    "    ax[int(idx/3), idx%3].imshow(img_read)\n",
    "    ax[int(idx/3), idx%3].axis('off')\n",
    "    ax[int(idx/3), idx%3].set_title('Dog/'+img)\n",
    "\n",
    "plt.show()"
   ]
  },
  {
   "cell_type": "markdown",
   "metadata": {},
   "source": [
    "# 케라스로 이미지 데이터 다루기"
   ]
  },
  {
   "cell_type": "code",
   "execution_count": null,
   "metadata": {},
   "outputs": [],
   "source": [
    "from utils import train_test_split"
   ]
  },
  {
   "cell_type": "code",
   "execution_count": null,
   "metadata": {},
   "outputs": [],
   "source": [
    "src_folder = 'Dataset/PetImages/'\n",
    "train_test_split(src_folder)"
   ]
  },
  {
   "cell_type": "code",
   "execution_count": null,
   "metadata": {},
   "outputs": [],
   "source": []
  }
 ],
 "metadata": {
  "kernelspec": {
   "display_name": "Python 3",
   "language": "python",
   "name": "python3"
  },
  "language_info": {
   "codemirror_mode": {
    "name": "ipython",
    "version": 3
   },
   "file_extension": ".py",
   "mimetype": "text/x-python",
   "name": "python",
   "nbconvert_exporter": "python",
   "pygments_lexer": "ipython3",
   "version": "3.8.5"
  }
 },
 "nbformat": 4,
 "nbformat_minor": 4
}
